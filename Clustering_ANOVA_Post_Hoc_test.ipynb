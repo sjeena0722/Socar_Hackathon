{
  "nbformat": 4,
  "nbformat_minor": 0,
  "metadata": {
    "colab": {
      "name": "Clustering_ANOVA_Post-Hoc test.ipynb",
      "provenance": [],
      "collapsed_sections": [],
      "mount_file_id": "1GICvyULZxas-rRgsxLpV8zKKK-iklw3J",
      "authorship_tag": "ABX9TyNlBE80kftVLDZXEaQHxziD",
      "include_colab_link": true
    },
    "kernelspec": {
      "name": "python3",
      "display_name": "Python 3"
    },
    "language_info": {
      "name": "python"
    }
  },
  "cells": [
    {
      "cell_type": "markdown",
      "metadata": {
        "id": "view-in-github",
        "colab_type": "text"
      },
      "source": [
        "<a href=\"https://colab.research.google.com/github/sjeena0722/Socar_Hackathon/blob/main/Clustering_ANOVA_Post_Hoc_test.ipynb\" target=\"_parent\"><img src=\"https://colab.research.google.com/assets/colab-badge.svg\" alt=\"Open In Colab\"/></a>"
      ]
    },
    {
      "cell_type": "code",
      "metadata": {
        "id": "HXLjiDIMeuZb"
      },
      "source": [
        "# 데이터 불러오기\n",
        "import pandas as pd\n",
        "df = pd.read_csv('path')\n",
        "df.head()"
      ],
      "execution_count": null,
      "outputs": []
    },
    {
      "cell_type": "code",
      "metadata": {
        "colab": {
          "base_uri": "https://localhost:8080/"
        },
        "id": "S0IFK17ZTekT",
        "outputId": "08481fd1-4ae8-470f-8661-2be18ac16639"
      },
      "source": [
        "df.groupby('cluster_id')['use_total_hr_mm'].mean()"
      ],
      "execution_count": null,
      "outputs": [
        {
          "output_type": "execute_result",
          "data": {
            "text/plain": [
              "cluster_id\n",
              "0    0.322849\n",
              "1    0.321705\n",
              "2    0.319741\n",
              "3    0.324689\n",
              "4    0.315799\n",
              "Name: use_total_hr_mm, dtype: float64"
            ]
          },
          "metadata": {},
          "execution_count": 4
        }
      ]
    },
    {
      "cell_type": "code",
      "metadata": {
        "colab": {
          "base_uri": "https://localhost:8080/"
        },
        "id": "XvEp0BSlfiJ-",
        "outputId": "7c17557d-3646-45f5-d802-60ad2ab9c41c"
      },
      "source": [
        "df.groupby('cluster_id')['use_total_hr'].mean()"
      ],
      "execution_count": null,
      "outputs": [
        {
          "output_type": "execute_result",
          "data": {
            "text/plain": [
              "cluster_id\n",
              "0     9.511638\n",
              "1     8.912495\n",
              "2     7.884372\n",
              "3    10.474840\n",
              "4     5.820692\n",
              "Name: use_total_hr, dtype: float64"
            ]
          },
          "metadata": {},
          "execution_count": 7
        }
      ]
    },
    {
      "cell_type": "code",
      "metadata": {
        "colab": {
          "base_uri": "https://localhost:8080/",
          "height": 237
        },
        "id": "2mIUanx8TsDM",
        "outputId": "255e8eb0-99f7-46fd-8e75-0bd5590f841c"
      },
      "source": [
        "# cluster_id별 count\n",
        "df.groupby('cluster_id').count()"
      ],
      "execution_count": null,
      "outputs": [
        {
          "output_type": "execute_result",
          "data": {
            "text/html": [
              "<div>\n",
              "<style scoped>\n",
              "    .dataframe tbody tr th:only-of-type {\n",
              "        vertical-align: middle;\n",
              "    }\n",
              "\n",
              "    .dataframe tbody tr th {\n",
              "        vertical-align: top;\n",
              "    }\n",
              "\n",
              "    .dataframe thead th {\n",
              "        text-align: right;\n",
              "    }\n",
              "</style>\n",
              "<table border=\"1\" class=\"dataframe\">\n",
              "  <thead>\n",
              "    <tr style=\"text-align: right;\">\n",
              "      <th></th>\n",
              "      <th>age_group</th>\n",
              "      <th>gender</th>\n",
              "      <th>car_model</th>\n",
              "      <th>region</th>\n",
              "      <th>use_total_hr_mm</th>\n",
              "    </tr>\n",
              "    <tr>\n",
              "      <th>cluster_id</th>\n",
              "      <th></th>\n",
              "      <th></th>\n",
              "      <th></th>\n",
              "      <th></th>\n",
              "      <th></th>\n",
              "    </tr>\n",
              "  </thead>\n",
              "  <tbody>\n",
              "    <tr>\n",
              "      <th>0</th>\n",
              "      <td>110641</td>\n",
              "      <td>110641</td>\n",
              "      <td>110641</td>\n",
              "      <td>110641</td>\n",
              "      <td>110641</td>\n",
              "    </tr>\n",
              "    <tr>\n",
              "      <th>1</th>\n",
              "      <td>52272</td>\n",
              "      <td>52272</td>\n",
              "      <td>52272</td>\n",
              "      <td>52272</td>\n",
              "      <td>52272</td>\n",
              "    </tr>\n",
              "    <tr>\n",
              "      <th>2</th>\n",
              "      <td>24327</td>\n",
              "      <td>24327</td>\n",
              "      <td>24327</td>\n",
              "      <td>24327</td>\n",
              "      <td>24327</td>\n",
              "    </tr>\n",
              "    <tr>\n",
              "      <th>3</th>\n",
              "      <td>72278</td>\n",
              "      <td>72278</td>\n",
              "      <td>72278</td>\n",
              "      <td>72278</td>\n",
              "      <td>72278</td>\n",
              "    </tr>\n",
              "    <tr>\n",
              "      <th>4</th>\n",
              "      <td>197549</td>\n",
              "      <td>197549</td>\n",
              "      <td>197549</td>\n",
              "      <td>197549</td>\n",
              "      <td>197549</td>\n",
              "    </tr>\n",
              "  </tbody>\n",
              "</table>\n",
              "</div>"
            ],
            "text/plain": [
              "            age_group  gender  car_model  region  use_total_hr_mm\n",
              "cluster_id                                                       \n",
              "0              110641  110641     110641  110641           110641\n",
              "1               52272   52272      52272   52272            52272\n",
              "2               24327   24327      24327   24327            24327\n",
              "3               72278   72278      72278   72278            72278\n",
              "4              197549  197549     197549  197549           197549"
            ]
          },
          "metadata": {},
          "execution_count": 30
        }
      ]
    },
    {
      "cell_type": "markdown",
      "source": [
        "##  분산분석"
      ],
      "metadata": {
        "id": "3rUkFq9D3lup"
      }
    },
    {
      "cell_type": "code",
      "metadata": {
        "colab": {
          "base_uri": "https://localhost:8080/",
          "height": 112
        },
        "id": "QejdoXxjXiIq",
        "outputId": "2348e26d-96e4-4495-cd69-ed62cb266ac5"
      },
      "source": [
        "from statsmodels.formula.api import ols\n",
        "from statsmodels.stats.anova import anova_lm\n",
        "\n",
        "model = ols('use_total_hr_mm ~ C(cluster_id)', df).fit()\n",
        "anova_lm(model)"
      ],
      "execution_count": null,
      "outputs": [
        {
          "output_type": "execute_result",
          "data": {
            "text/html": [
              "<div>\n",
              "<style scoped>\n",
              "    .dataframe tbody tr th:only-of-type {\n",
              "        vertical-align: middle;\n",
              "    }\n",
              "\n",
              "    .dataframe tbody tr th {\n",
              "        vertical-align: top;\n",
              "    }\n",
              "\n",
              "    .dataframe thead th {\n",
              "        text-align: right;\n",
              "    }\n",
              "</style>\n",
              "<table border=\"1\" class=\"dataframe\">\n",
              "  <thead>\n",
              "    <tr style=\"text-align: right;\">\n",
              "      <th></th>\n",
              "      <th>df</th>\n",
              "      <th>sum_sq</th>\n",
              "      <th>mean_sq</th>\n",
              "      <th>F</th>\n",
              "      <th>PR(&gt;F)</th>\n",
              "    </tr>\n",
              "  </thead>\n",
              "  <tbody>\n",
              "    <tr>\n",
              "      <th>C(cluster_id)</th>\n",
              "      <td>4.0</td>\n",
              "      <td>6.108985</td>\n",
              "      <td>1.527246</td>\n",
              "      <td>2556.398161</td>\n",
              "      <td>0.0</td>\n",
              "    </tr>\n",
              "    <tr>\n",
              "      <th>Residual</th>\n",
              "      <td>457062.0</td>\n",
              "      <td>273.058470</td>\n",
              "      <td>0.000597</td>\n",
              "      <td>NaN</td>\n",
              "      <td>NaN</td>\n",
              "    </tr>\n",
              "  </tbody>\n",
              "</table>\n",
              "</div>"
            ],
            "text/plain": [
              "                     df      sum_sq   mean_sq            F  PR(>F)\n",
              "C(cluster_id)       4.0    6.108985  1.527246  2556.398161     0.0\n",
              "Residual       457062.0  273.058470  0.000597          NaN     NaN"
            ]
          },
          "metadata": {},
          "execution_count": 32
        }
      ]
    },
    {
      "cell_type": "markdown",
      "source": [
        "* Pr(>F)가 p-value. 이 값이 0.05보다 작으면 통계적으로 유의미한 차이가 있음.\n",
        "* 위의 예시에서는 0.0로 0.05보다 작음. 따라서 유의미한 차이.\n",
        "* 구체적으로 어떤 수준(집단)이 차이가 있는지 확인하려면 사후분석(post hoc tests)"
      ],
      "metadata": {
        "id": "J8suJjY94OsK"
      }
    },
    {
      "cell_type": "markdown",
      "source": [
        "## 사후분석\n",
        "- ANOVA 검증 결과 유의미하다는 결론을 얻었을 때, 구체적으로 어떤 수준(들)에서 평균 차이가 나는지를 검증하는 방법\n"
      ],
      "metadata": {
        "id": "v-MvqOZO4eek"
      }
    },
    {
      "cell_type": "code",
      "metadata": {
        "id": "fnuRbPiFXnzX"
      },
      "source": [
        "# 사후분석을 위한 준비\n",
        "from statsmodels.sandbox.stats.multicomp import MultiComparison\n",
        "import scipy.stats\n",
        "\n",
        "comp = MultiComparison(df.use_total_hr_mm, df.cluster_id)\n"
      ],
      "execution_count": null,
      "outputs": []
    },
    {
      "cell_type": "markdown",
      "metadata": {
        "id": "7ELinqv8Y0xc"
      },
      "source": [
        "### 1. 봉페로니 교정"
      ]
    },
    {
      "cell_type": "code",
      "metadata": {
        "colab": {
          "base_uri": "https://localhost:8080/",
          "height": 294
        },
        "id": "G35W6uC0Yrpm",
        "outputId": "47daa453-01fd-4ef2-86de-499f455b71eb"
      },
      "source": [
        "result = comp.allpairtest(scipy.stats.ttest_ind, method='bonf')\n",
        "result[0]"
      ],
      "execution_count": null,
      "outputs": [
        {
          "output_type": "execute_result",
          "data": {
            "text/html": [
              "<table class=\"simpletable\">\n",
              "<caption>Test Multiple Comparison ttest_ind \n",
              "FWER=0.05 method=bonf\n",
              "alphacSidak=0.01, alphacBonf=0.005</caption>\n",
              "<tr>\n",
              "  <th>group1</th> <th>group2</th>   <th>stat</th>   <th>pval</th> <th>pval_corr</th> <th>reject</th>\n",
              "</tr>\n",
              "<tr>\n",
              "     <td>0</td>      <td>1</td>    <td>7.8991</td>   <td>0.0</td>    <td>0.0</td>     <td>True</td> \n",
              "</tr>\n",
              "<tr>\n",
              "     <td>0</td>      <td>2</td>    <td>15.5814</td>  <td>0.0</td>    <td>0.0</td>     <td>True</td> \n",
              "</tr>\n",
              "<tr>\n",
              "     <td>0</td>      <td>3</td>   <td>-12.6594</td>  <td>0.0</td>    <td>0.0</td>     <td>True</td> \n",
              "</tr>\n",
              "<tr>\n",
              "     <td>0</td>      <td>4</td>    <td>84.5494</td>  <td>0.0</td>    <td>0.0</td>     <td>True</td> \n",
              "</tr>\n",
              "<tr>\n",
              "     <td>1</td>      <td>2</td>    <td>10.5252</td>  <td>0.0</td>    <td>0.0</td>     <td>True</td> \n",
              "</tr>\n",
              "<tr>\n",
              "     <td>1</td>      <td>3</td>   <td>-17.8107</td>  <td>0.0</td>    <td>0.0</td>     <td>True</td> \n",
              "</tr>\n",
              "<tr>\n",
              "     <td>1</td>      <td>4</td>    <td>63.5662</td>  <td>0.0</td>    <td>0.0</td>     <td>True</td> \n",
              "</tr>\n",
              "<tr>\n",
              "     <td>2</td>      <td>3</td>   <td>-21.6575</td>  <td>0.0</td>    <td>0.0</td>     <td>True</td> \n",
              "</tr>\n",
              "<tr>\n",
              "     <td>2</td>      <td>4</td>    <td>31.5866</td>  <td>0.0</td>    <td>0.0</td>     <td>True</td> \n",
              "</tr>\n",
              "<tr>\n",
              "     <td>3</td>      <td>4</td>    <td>90.8754</td>  <td>0.0</td>    <td>0.0</td>     <td>True</td> \n",
              "</tr>\n",
              "</table>"
            ],
            "text/plain": [
              "<class 'statsmodels.iolib.table.SimpleTable'>"
            ]
          },
          "metadata": {},
          "execution_count": 34
        }
      ]
    },
    {
      "cell_type": "markdown",
      "source": [
        "* 모든 그룹 간의 평균 차이가 유의미하다. (p < 0.05)"
      ],
      "metadata": {
        "id": "z6L4Srcq44Lt"
      }
    },
    {
      "cell_type": "markdown",
      "metadata": {
        "id": "mV_1xDPHZIwo"
      },
      "source": [
        "### 2. 투키의 HSD"
      ]
    },
    {
      "cell_type": "code",
      "metadata": {
        "colab": {
          "base_uri": "https://localhost:8080/",
          "height": 277
        },
        "id": "aq6yNVvAY4fI",
        "outputId": "5847e98b-db56-448a-c94e-83d498af4390"
      },
      "source": [
        "from statsmodels.stats.multicomp import pairwise_tukeyhsd\n",
        "\n",
        "hsd = pairwise_tukeyhsd(df['use_total_hr_mm'], df['cluster_id'], alpha=0.05)\n",
        "hsd.summary()"
      ],
      "execution_count": null,
      "outputs": [
        {
          "output_type": "execute_result",
          "data": {
            "text/html": [
              "<table class=\"simpletable\">\n",
              "<caption>Multiple Comparison of Means - Tukey HSD, FWER=0.05</caption>\n",
              "<tr>\n",
              "  <th>group1</th> <th>group2</th> <th>meandiff</th> <th>p-adj</th>  <th>lower</th>   <th>upper</th>  <th>reject</th>\n",
              "</tr>\n",
              "<tr>\n",
              "     <td>0</td>      <td>1</td>    <td>-0.0011</td> <td>0.001</td> <td>-0.0015</td> <td>-0.0008</td>  <td>True</td> \n",
              "</tr>\n",
              "<tr>\n",
              "     <td>0</td>      <td>2</td>    <td>-0.0031</td> <td>0.001</td> <td>-0.0036</td> <td>-0.0026</td>  <td>True</td> \n",
              "</tr>\n",
              "<tr>\n",
              "     <td>0</td>      <td>3</td>    <td>0.0018</td>  <td>0.001</td> <td>0.0015</td>  <td>0.0022</td>   <td>True</td> \n",
              "</tr>\n",
              "<tr>\n",
              "     <td>0</td>      <td>4</td>    <td>-0.0071</td> <td>0.001</td> <td>-0.0073</td> <td>-0.0068</td>  <td>True</td> \n",
              "</tr>\n",
              "<tr>\n",
              "     <td>1</td>      <td>2</td>    <td>-0.002</td>  <td>0.001</td> <td>-0.0025</td> <td>-0.0014</td>  <td>True</td> \n",
              "</tr>\n",
              "<tr>\n",
              "     <td>1</td>      <td>3</td>     <td>0.003</td>  <td>0.001</td> <td>0.0026</td>  <td>0.0034</td>   <td>True</td> \n",
              "</tr>\n",
              "<tr>\n",
              "     <td>1</td>      <td>4</td>    <td>-0.0059</td> <td>0.001</td> <td>-0.0062</td> <td>-0.0056</td>  <td>True</td> \n",
              "</tr>\n",
              "<tr>\n",
              "     <td>2</td>      <td>3</td>    <td>0.0049</td>  <td>0.001</td> <td>0.0045</td>  <td>0.0054</td>   <td>True</td> \n",
              "</tr>\n",
              "<tr>\n",
              "     <td>2</td>      <td>4</td>    <td>-0.0039</td> <td>0.001</td> <td>-0.0044</td> <td>-0.0035</td>  <td>True</td> \n",
              "</tr>\n",
              "<tr>\n",
              "     <td>3</td>      <td>4</td>    <td>-0.0089</td> <td>0.001</td> <td>-0.0092</td> <td>-0.0086</td>  <td>True</td> \n",
              "</tr>\n",
              "</table>"
            ],
            "text/plain": [
              "<class 'statsmodels.iolib.table.SimpleTable'>"
            ]
          },
          "metadata": {},
          "execution_count": 35
        }
      ]
    },
    {
      "cell_type": "markdown",
      "source": [
        "* 모든 그룹 간의 평균 차이가 유의미하다. (p < 0.05)"
      ],
      "metadata": {
        "id": "MqVXxBq45FAe"
      }
    },
    {
      "cell_type": "code",
      "metadata": {
        "colab": {
          "base_uri": "https://localhost:8080/"
        },
        "id": "pSqnES0rZS1U",
        "outputId": "8d666c65-3390-4a61-e203-4612a83e72ee"
      },
      "source": [
        "import numpy as np\n",
        "# df.groupby('cluster_id')['use_total_hr_mm'].mean()\n",
        "- np.log(df.groupby('cluster_id')['use_total_hr_mm'].mean())"
      ],
      "execution_count": null,
      "outputs": [
        {
          "output_type": "execute_result",
          "data": {
            "text/plain": [
              "cluster_id\n",
              "0    1.130569\n",
              "1    1.134121\n",
              "2    1.140244\n",
              "3    1.124887\n",
              "4    1.152650\n",
              "Name: use_total_hr_mm, dtype: float64"
            ]
          },
          "metadata": {},
          "execution_count": 44
        }
      ]
    },
    {
      "cell_type": "code",
      "metadata": {
        "colab": {
          "base_uri": "https://localhost:8080/"
        },
        "id": "lzBs7TEhciqZ",
        "outputId": "ab142a67-3a54-4d3f-8a1c-d093e312754e"
      },
      "source": [
        "# 0 /2,4 / 1,3"
      ],
      "execution_count": null,
      "outputs": [
        {
          "output_type": "execute_result",
          "data": {
            "text/plain": [
              "(0.0, 4.0, 3)"
            ]
          },
          "metadata": {},
          "execution_count": 37
        }
      ]
    }
  ]
}