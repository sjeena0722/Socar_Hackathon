{
  "nbformat": 4,
  "nbformat_minor": 0,
  "metadata": {
    "colab": {
      "name": "K-Prototype model.ipynb",
      "provenance": [],
      "collapsed_sections": []
    },
    "kernelspec": {
      "display_name": "Python 3",
      "name": "python3"
    },
    "language_info": {
      "name": "python"
    },
    "accelerator": "TPU"
  },
  "cells": [
    {
      "cell_type": "code",
      "metadata": {
        "id": "opZd_jJe09ij",
        "colab": {
          "base_uri": "https://localhost:8080/"
        },
        "outputId": "b4b4a9bf-3218-4e3d-defc-fcba2577a1cd"
      },
      "source": [
        "pip install kmodes"
      ],
      "execution_count": 14,
      "outputs": [
        {
          "output_type": "stream",
          "name": "stdout",
          "text": [
            "Requirement already satisfied: kmodes in /usr/local/lib/python3.7/dist-packages (0.11.1)\n",
            "Requirement already satisfied: numpy>=1.10.4 in /usr/local/lib/python3.7/dist-packages (from kmodes) (1.19.5)\n",
            "Requirement already satisfied: scikit-learn>=0.22.0 in /usr/local/lib/python3.7/dist-packages (from kmodes) (1.0.1)\n",
            "Requirement already satisfied: scipy>=0.13.3 in /usr/local/lib/python3.7/dist-packages (from kmodes) (1.4.1)\n",
            "Requirement already satisfied: joblib>=0.11 in /usr/local/lib/python3.7/dist-packages (from kmodes) (1.1.0)\n",
            "Requirement already satisfied: threadpoolctl>=2.0.0 in /usr/local/lib/python3.7/dist-packages (from scikit-learn>=0.22.0->kmodes) (3.0.0)\n"
          ]
        }
      ]
    },
    {
      "cell_type": "code",
      "metadata": {
        "id": "g_fmRLfyw_0M"
      },
      "source": [
        "# Import module for data manipulation\n",
        "import pandas as pd\n",
        "# Import module for linear algebra\n",
        "import numpy as np\n",
        "# Import module for data visualization\n",
        "from plotnine import *\n",
        "import plotnine\n",
        "# Import module for k-protoype cluster\n",
        "from kmodes.kprototypes import KPrototypes\n",
        "# Ignore warnings\n",
        "import warnings\n",
        "warnings.filterwarnings('ignore', category = FutureWarning)\n",
        "# Format scientific notation from Pandas\n",
        "pd.set_option('display.float_format', lambda x: '%.3f' % x)"
      ],
      "execution_count": 15,
      "outputs": []
    },
    {
      "cell_type": "code",
      "metadata": {
        "id": "O1-iZbZJ0Pg3"
      },
      "source": [
        "path ='DATA/main.csv'\n",
        "df = pd.read_csv(path,encoding='cp949')\n",
        "df.head()"
      ],
      "execution_count": null,
      "outputs": []
    },
    {
      "cell_type": "markdown",
      "metadata": {
        "id": "wBUBijkXJf57"
      },
      "source": [
        "* 가격 기준으로 차종 나눔\n",
        "   - 경형, 준중형, 소형SUV, 소형 => 소\n",
        "   - 중형, 준중형SUV, 중형SUV, 수입 =>중\n",
        "   - 승합, 준대형, 대형 => 대"
      ]
    },
    {
      "cell_type": "code",
      "metadata": {
        "id": "UbHctlGyCzEb"
      },
      "source": [
        "car_dict = {'경형' : '소', \n",
        "            '준중형' : '소', \n",
        "            '준중형SUV' : '중', \n",
        "            '소형SUV' : '소',\n",
        "            '소형' : '소',\n",
        "            '준대형' : '대',\n",
        "            '중형' : '중',\n",
        "            '중형SUV' : '중',\n",
        "            '승합': '대',\n",
        "            '수입' : '중',\n",
        "            '대형': '대'\n",
        "            }\n",
        "\n",
        "df['car_model']=df['car_model'].map(car_dict)"
      ],
      "execution_count": 19,
      "outputs": []
    },
    {
      "cell_type": "code",
      "metadata": {
        "id": "2l6zNGN-MZTP"
      },
      "source": [
        "  #datetime으로 자료형 변경\n",
        "  df['reservation_start_at'] = pd.to_datetime(df['reservation_start_at'])\n",
        "  df['reservation_return_at'] = pd.to_datetime(df['reservation_return_at'])\n",
        "\n",
        "  #region2 이름 정제\n",
        "  df.region2 = df.region2.str.replace('\\u3000','_')\n",
        "\n",
        "  # weather.csv와 지역이름 맞추기\n",
        "  df['region'] = df.apply(lambda row : row['region2'].split('_')[0] if row['region1'] == '경기도' else row['region1'],axis =1)\n",
        "\n",
        "  #use_total_hr 만들기\n",
        "  df['use_time'] = df.reservation_return_at - df.reservation_start_at\n",
        "  df['use_total_hr'] = df['use_time'].dt.total_seconds() / 3600\n",
        "  df['use_total_hr'] = round( df['use_total_hr'], 2)\n",
        "\n",
        "  df = df.drop(['reservation_return_at','reservation_start_at','use_time','region1','region2'],axis=1)\n",
        "  df\n"
      ],
      "execution_count": null,
      "outputs": []
    },
    {
      "cell_type": "code",
      "metadata": {
        "id": "e4s1RBWDdeSv"
      },
      "source": [
        "from sklearn.preprocessing import MinMaxScaler\n",
        "\n",
        "scaler =MinMaxScaler()\n",
        "df['use_total_hr_mm'] = scaler.fit_transform(df[['use_total_hr']])\n",
        "df"
      ],
      "execution_count": null,
      "outputs": []
    },
    {
      "cell_type": "code",
      "metadata": {
        "colab": {
          "base_uri": "https://localhost:8080/"
        },
        "id": "EnFknYOvUgni",
        "outputId": "f65f29b6-24ba-43d2-c202-fd954038a2f4"
      },
      "source": [
        "df.drop('use_total_hr', axis = 1,inplace =True)\n",
        "df.info()"
      ],
      "execution_count": 25,
      "outputs": [
        {
          "output_type": "stream",
          "name": "stdout",
          "text": [
            "<class 'pandas.core.frame.DataFrame'>\n",
            "RangeIndex: 457067 entries, 0 to 457066\n",
            "Data columns (total 5 columns):\n",
            " #   Column           Non-Null Count   Dtype  \n",
            "---  ------           --------------   -----  \n",
            " 0   age_group        457067 non-null  int64  \n",
            " 1   gender           457067 non-null  object \n",
            " 2   car_model        457067 non-null  object \n",
            " 3   region           457067 non-null  object \n",
            " 4   use_total_hr_mm  457067 non-null  float64\n",
            "dtypes: float64(1), int64(1), object(3)\n",
            "memory usage: 17.4+ MB\n"
          ]
        }
      ]
    },
    {
      "cell_type": "code",
      "metadata": {
        "colab": {
          "base_uri": "https://localhost:8080/"
        },
        "id": "GdAI0ybuWZgu",
        "outputId": "74b8ff0f-5b27-4c01-c1cd-c37b1f8f5dae"
      },
      "source": [
        "# Inspect the categorical variables\n",
        "df.select_dtypes('object').nunique()"
      ],
      "execution_count": 26,
      "outputs": [
        {
          "output_type": "execute_result",
          "data": {
            "text/plain": [
              "gender        3\n",
              "car_model     3\n",
              "region       15\n",
              "dtype: int64"
            ]
          },
          "metadata": {},
          "execution_count": 26
        }
      ]
    },
    {
      "cell_type": "code",
      "metadata": {
        "colab": {
          "base_uri": "https://localhost:8080/"
        },
        "id": "2FbNo-sYXvVo",
        "outputId": "c44d1ca0-8c0a-4f6e-bb61-7d03a4fb3850"
      },
      "source": [
        "# Get the position of categorical columns\n",
        "catColumnsPos = [df.columns.get_loc(col) for col in list(df.select_dtypes('object').columns)]\n",
        "print('Categorical columns           : {}'.format(list(df.select_dtypes('object').columns)))\n",
        "print('Categorical columns position  : {}'.format(catColumnsPos))"
      ],
      "execution_count": 28,
      "outputs": [
        {
          "output_type": "stream",
          "name": "stdout",
          "text": [
            "Categorical columns           : ['gender', 'car_model', 'region']\n",
            "Categorical columns position  : [1, 2, 3]\n"
          ]
        }
      ]
    },
    {
      "cell_type": "code",
      "metadata": {
        "id": "nIoxVK8cZD7v"
      },
      "source": [
        "# Convert dataframe to matrix\n",
        "dfMatrix = df.to_numpy()\n",
        "dfMatrix"
      ],
      "execution_count": null,
      "outputs": []
    },
    {
      "cell_type": "code",
      "metadata": {
        "colab": {
          "base_uri": "https://localhost:8080/"
        },
        "id": "_MLqesn2ZMnE",
        "outputId": "8ea8fa34-551c-4a2d-cee0-cd572a473221"
      },
      "source": [
        "# Choose optimal K using Elbow method\n",
        "cost = []\n",
        "for cluster in range(1, 6):\n",
        "    try:\n",
        "        kprototype = KPrototypes(n_jobs = -1, n_clusters = cluster, init = 'Huang', random_state = 0)\n",
        "        kprototype.fit_predict(dfMatrix, categorical = catColumnsPos)\n",
        "        cost.append(kprototype.cost_)\n",
        "        print('Cluster initiation: {}'.format(cluster))\n",
        "    except:\n",
        "        break\n"
      ],
      "execution_count": 15,
      "outputs": [
        {
          "output_type": "stream",
          "name": "stdout",
          "text": [
            "Cluster initiation: 1\n",
            "Cluster initiation: 2\n",
            "Cluster initiation: 3\n",
            "Cluster initiation: 4\n",
            "Cluster initiation: 5\n"
          ]
        }
      ]
    },
    {
      "cell_type": "code",
      "metadata": {
        "id": "1vTlkO4EZ8pw",
        "colab": {
          "base_uri": "https://localhost:8080/",
          "height": 206
        },
        "outputId": "20fd7cb5-60c4-474c-9f70-adb86878ee26"
      },
      "source": [
        "# Converting the results into a dataframe and plotting them\n",
        "df_cost = pd.DataFrame({'Cluster':range(1, 6), 'Cost':cost})\n",
        "df_cost"
      ],
      "execution_count": 16,
      "outputs": [
        {
          "output_type": "execute_result",
          "data": {
            "text/html": [
              "<div>\n",
              "<style scoped>\n",
              "    .dataframe tbody tr th:only-of-type {\n",
              "        vertical-align: middle;\n",
              "    }\n",
              "\n",
              "    .dataframe tbody tr th {\n",
              "        vertical-align: top;\n",
              "    }\n",
              "\n",
              "    .dataframe thead th {\n",
              "        text-align: right;\n",
              "    }\n",
              "</style>\n",
              "<table border=\"1\" class=\"dataframe\">\n",
              "  <thead>\n",
              "    <tr style=\"text-align: right;\">\n",
              "      <th></th>\n",
              "      <th>Cluster</th>\n",
              "      <th>Cost</th>\n",
              "    </tr>\n",
              "  </thead>\n",
              "  <tbody>\n",
              "    <tr>\n",
              "      <th>0</th>\n",
              "      <td>1</td>\n",
              "      <td>79563777.371</td>\n",
              "    </tr>\n",
              "    <tr>\n",
              "      <th>1</th>\n",
              "      <td>2</td>\n",
              "      <td>37714901.980</td>\n",
              "    </tr>\n",
              "    <tr>\n",
              "      <th>2</th>\n",
              "      <td>3</td>\n",
              "      <td>20829273.436</td>\n",
              "    </tr>\n",
              "    <tr>\n",
              "      <th>3</th>\n",
              "      <td>4</td>\n",
              "      <td>14718957.338</td>\n",
              "    </tr>\n",
              "    <tr>\n",
              "      <th>4</th>\n",
              "      <td>5</td>\n",
              "      <td>11716662.296</td>\n",
              "    </tr>\n",
              "  </tbody>\n",
              "</table>\n",
              "</div>"
            ],
            "text/plain": [
              "   Cluster         Cost\n",
              "0        1 79563777.371\n",
              "1        2 37714901.980\n",
              "2        3 20829273.436\n",
              "3        4 14718957.338\n",
              "4        5 11716662.296"
            ]
          },
          "metadata": {},
          "execution_count": 16
        }
      ]
    },
    {
      "cell_type": "code",
      "metadata": {
        "colab": {
          "base_uri": "https://localhost:8080/",
          "height": 503
        },
        "id": "zJgF1emABDMx",
        "outputId": "c3238e04-4531-4bc8-de5b-e06bcae5813e"
      },
      "source": [
        "\n",
        "# Data viz\n",
        "plotnine.options.figure_size = (8, 4.8)\n",
        "(\n",
        "    ggplot(data = df_cost)+\n",
        "    geom_line(aes(x = 'Cluster',\n",
        "                  y = 'Cost'))+\n",
        "    geom_point(aes(x = 'Cluster',\n",
        "                   y = 'Cost'))+\n",
        "    geom_label(aes(x = 'Cluster',\n",
        "                   y = 'Cost',\n",
        "                   label = 'Cluster'),\n",
        "               size = 10,\n",
        "               nudge_y = 1000) +\n",
        "    labs(title = 'Optimal number of cluster with Elbow Method')+\n",
        "    xlab('Number of Clusters k')+\n",
        "    ylab('Cost')+\n",
        "    theme_minimal()\n",
        ")"
      ],
      "execution_count": 17,
      "outputs": [
        {
          "output_type": "display_data",
          "data": {
            "image/png": "[encoded data removed]",
            "text/plain": [
              "<Figure size 800x480 with 1 Axes>"
            ]
          },
          "metadata": {
            "needs_background": "light"
          }
        },
        {
          "output_type": "execute_result",
          "data": {
            "text/plain": [
              "<ggplot: (8792238551929)>"
            ]
          },
          "metadata": {},
          "execution_count": 17
        }
      ]
    },
    {
      "cell_type": "code",
      "metadata": {
        "colab": {
          "base_uri": "https://localhost:8080/"
        },
        "id": "lknMtRYxBIsr",
        "outputId": "67c5f560-b1ec-4c0d-ac45-c8c96ca0b88f"
      },
      "source": [
        "# Fit the cluster\n",
        "kprototype = KPrototypes(n_jobs = -1, n_clusters = 5, init = 'Huang', random_state = 0)\n",
        "kprototype.fit_predict(dfMatrix, categorical = catColumnsPos)"
      ],
      "execution_count": 30,
      "outputs": [
        {
          "output_type": "execute_result",
          "data": {
            "text/plain": [
              "array([4, 4, 4, ..., 4, 1, 3], dtype=uint16)"
            ]
          },
          "metadata": {},
          "execution_count": 30
        }
      ]
    },
    {
      "cell_type": "code",
      "metadata": {
        "id": "GjO7gk7d4aeC"
      },
      "source": [
        "# Cluster centorid\n",
        "kprototype.cluster_centroids_"
      ],
      "execution_count": null,
      "outputs": []
    },
    {
      "cell_type": "code",
      "metadata": {
        "colab": {
          "base_uri": "https://localhost:8080/"
        },
        "id": "_XXd_ReC4fvv",
        "outputId": "15876b97-9f74-4ec1-b12d-afe64a172fbe"
      },
      "source": [
        "# Check the iteration of the clusters created\n",
        "kprototype.n_iter_"
      ],
      "execution_count": 32,
      "outputs": [
        {
          "output_type": "execute_result",
          "data": {
            "text/plain": [
              "4"
            ]
          },
          "metadata": {},
          "execution_count": 32
        }
      ]
    },
    {
      "cell_type": "code",
      "metadata": {
        "colab": {
          "base_uri": "https://localhost:8080/"
        },
        "id": "MQchSQqR4iAo",
        "outputId": "e9abbf50-b04b-4b92-ea00-9390bd3522dc"
      },
      "source": [
        "# Check the cost of the clusters created\n",
        "kprototype.cost_"
      ],
      "execution_count": 33,
      "outputs": [
        {
          "output_type": "execute_result",
          "data": {
            "text/plain": [
              "234554.38799104877"
            ]
          },
          "metadata": {},
          "execution_count": 33
        }
      ]
    },
    {
      "cell_type": "code",
      "metadata": {
        "id": "p8oBkt6j4kt1"
      },
      "source": [
        "# Add the cluster to the dataframe\n",
        "df['cluster_id'] = kprototype.labels_ "
      ],
      "execution_count": 34,
      "outputs": []
    },
    {
      "cell_type": "code",
      "metadata": {
        "id": "q6LidyVE4mrZ"
      },
      "source": [
        "df"
      ],
      "execution_count": null,
      "outputs": []
    },
    {
      "cell_type": "markdown",
      "metadata": {
        "id": "HvrlzMBpskzq"
      },
      "source": [
        "![image.png](data:image/png;base64,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)"
      ]
    },
    {
      "cell_type": "code",
      "metadata": {
        "id": "yCJ5-89OG4Pw"
      },
      "source": [
        "df['use_total_hr'] = scaler.inverse_transform(df[['use_total_hr_mm']])"
      ],
      "execution_count": 38,
      "outputs": []
    },
    {
      "cell_type": "code",
      "metadata": {
        "id": "rJN92RHHa7CE"
      },
      "source": [
        "df_0 = df[df['cluster_id'] ==0]\n",
        "df_1 = df[df['cluster_id'] ==1]\n",
        "df_2 = df[df['cluster_id'] ==2]\n",
        "df_3 = df[df['cluster_id'] ==3]\n",
        "df_4 = df[df['cluster_id'] ==4]"
      ],
      "execution_count": 20,
      "outputs": []
    }
  ]
}